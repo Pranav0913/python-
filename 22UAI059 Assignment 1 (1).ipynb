{
 "cells": [
  {
   "cell_type": "markdown",
   "id": "2bed983f-9d1f-4351-9a8d-ded0b49a777f",
   "metadata": {},
   "source": [
    "# Printing Hello World"
   ]
  },
  {
   "cell_type": "code",
   "execution_count": 6,
   "id": "63979552-a2db-481c-b972-05da4e5161c5",
   "metadata": {},
   "outputs": [
    {
     "name": "stdout",
     "output_type": "stream",
     "text": [
      "Hello World!\n"
     ]
    }
   ],
   "source": [
    "print(\"Hello World!\")"
   ]
  },
  {
   "cell_type": "markdown",
   "id": "b4ff2b26-d87d-4d71-b867-a633ac6b002e",
   "metadata": {},
   "source": [
    "# Printing addition of two Number"
   ]
  },
  {
   "cell_type": "code",
   "execution_count": 2,
   "id": "147b8d6c-8a2a-440e-9057-1d3e85f16604",
   "metadata": {},
   "outputs": [
    {
     "name": "stdout",
     "output_type": "stream",
     "text": [
      "Addition is: 8\n"
     ]
    }
   ],
   "source": [
    "# Create a a Variable\n",
    "a=3\n",
    "# Craete a Second variable\n",
    "b=5\n",
    "print(\"Addition is:\",a+b)"
   ]
  },
  {
   "cell_type": "markdown",
   "id": "d54b0e80-43f8-467f-8463-c1080057bcbb",
   "metadata": {},
   "source": [
    "# Variables"
   ]
  },
  {
   "cell_type": "code",
   "execution_count": 6,
   "id": "434cae09-f94b-4dcd-b8e8-19b824b67f30",
   "metadata": {},
   "outputs": [
    {
     "name": "stdout",
     "output_type": "stream",
     "text": [
      "5\n",
      "John\n"
     ]
    }
   ],
   "source": [
    "#A variable is created the moment you first assign a value to it.\n",
    "#\n",
    "\n",
    "\n",
    "x = 5\n",
    "y = \"John\"\n",
    "print(x)\n",
    "print(y)"
   ]
  },
  {
   "cell_type": "code",
   "execution_count": 10,
   "id": "5c2abe26-203d-4275-8666-2661c0d495d6",
   "metadata": {},
   "outputs": [
    {
     "name": "stdout",
     "output_type": "stream",
     "text": [
      "Pranav\n"
     ]
    }
   ],
   "source": [
    "#Variables do not need to be declared with any particular type, and can even change type after they have been set.\n",
    "\n",
    "x = 4       # x is of type int\n",
    "x = \"Pranav\" # x is now of type str\n",
    "print(x)\n"
   ]
  },
  {
   "cell_type": "markdown",
   "id": "7f24cec0-e862-4899-8d50-bf5d135aaefd",
   "metadata": {},
   "source": [
    "# Casting"
   ]
  },
  {
   "cell_type": "code",
   "execution_count": 22,
   "id": "285f303f-404d-4140-b11b-829d7d9af507",
   "metadata": {},
   "outputs": [
    {
     "name": "stdout",
     "output_type": "stream",
     "text": [
      "3\n",
      "3\n",
      "3.0\n"
     ]
    }
   ],
   "source": [
    "#If you want to specify the data type of a variable, this can be done with casting.\n",
    "\n",
    "x = str(3)    # x will be '3'\n",
    "y = int(3)    # y will be 3\n",
    "z = float(3)  # z will be 3.0\n",
    "print(x);\n",
    "print(y);\n",
    "print(z);"
   ]
  },
  {
   "cell_type": "markdown",
   "id": "d7f7631a-875b-404e-ac36-492919c73386",
   "metadata": {},
   "source": [
    "# Get the Type of variable "
   ]
  },
  {
   "cell_type": "code",
   "execution_count": 27,
   "id": "789781f0-3425-4380-94ad-24f2f7648f4d",
   "metadata": {},
   "outputs": [
    {
     "name": "stdout",
     "output_type": "stream",
     "text": [
      "<class 'int'>\n",
      "<class 'str'>\n"
     ]
    }
   ],
   "source": [
    "#You can get the data type of a variable with the type() function.\n",
    "x = 5\n",
    "y = \"John\"\n",
    "print(type(x))\n",
    "print(type(y))"
   ]
  },
  {
   "cell_type": "markdown",
   "id": "f451baf4-4236-4ba3-9d35-5c3d2ec80a8c",
   "metadata": {},
   "source": [
    "# Variable Names"
   ]
  },
  {
   "cell_type": "code",
   "execution_count": 34,
   "id": "96daea0f-96ae-4db4-b7fa-68bcdeb373fd",
   "metadata": {},
   "outputs": [
    {
     "name": "stdout",
     "output_type": "stream",
     "text": [
      "John\n",
      "John\n",
      "John\n",
      "John\n",
      "John\n",
      "John\n"
     ]
    }
   ],
   "source": [
    "#A variable can have a short name (like x and y) or a more descriptive name (age, carname, total_volume). Rules for Python variables:\n",
    "#A variable name must start with a letter or the underscore character\n",
    "#A variable name cannot start with a number\n",
    "#A variable name can only contain alpha-numeric characters and underscores (A-z, 0-9, and _ )\n",
    "#Variable names are case-sensitive (age, Age and AGE are three different variables)\n",
    "#A variable name cannot be any of the Python keywords.\n",
    "myvar = \"John\"\n",
    "my_var = \"John\"\n",
    "_my_var = \"John\"\n",
    "myVar = \"John\"\n",
    "MYVAR = \"John\"\n",
    "myvar2 = \"John\"\n",
    "\n",
    "print(myvar)\n",
    "print(my_var)\n",
    "print(_my_var)\n",
    "print(myVar)\n",
    "print(MYVAR)\n",
    "print(myvar2)\n"
   ]
  },
  {
   "cell_type": "markdown",
   "id": "db0aea6d-217e-47a1-af2d-4dc2c3f57344",
   "metadata": {},
   "source": [
    "# Assign Multiple Values\r\n"
   ]
  },
  {
   "cell_type": "code",
   "execution_count": 40,
   "id": "a8120513-6317-4d33-8814-c9274399baa8",
   "metadata": {},
   "outputs": [
    {
     "name": "stdout",
     "output_type": "stream",
     "text": [
      "Orange\n",
      "Banana\n",
      "Cherry\n"
     ]
    }
   ],
   "source": [
    "#Many Values to Multiple Variables\n",
    "#Python allows you to assign values to multiple variables in one line:\n",
    "\n",
    "x, y, z = \"Orange\", \"Banana\", \"Cherry\"\n",
    "print(x)\n",
    "print(y)\n",
    "print(z)"
   ]
  },
  {
   "cell_type": "markdown",
   "id": "8b740c52-5e45-4538-b86b-256fc59b41c5",
   "metadata": {},
   "source": [
    "# One value to multiple variables "
   ]
  },
  {
   "cell_type": "code",
   "execution_count": 44,
   "id": "6d78d1c8-970c-415a-a1cc-4bc568869a48",
   "metadata": {},
   "outputs": [
    {
     "name": "stdout",
     "output_type": "stream",
     "text": [
      "Orange\n",
      "Orange\n",
      "Orange\n"
     ]
    }
   ],
   "source": [
    "#And you can assign the same value to multiple variables in one line:\n",
    "x = y = z = \"Orange\"\n",
    "print(x)\n",
    "print(y)\n",
    "print(z)"
   ]
  },
  {
   "cell_type": "markdown",
   "id": "3aad4f47-2231-4af8-bf7f-139f51c88f3c",
   "metadata": {},
   "source": [
    " # Global Variables"
   ]
  },
  {
   "cell_type": "code",
   "execution_count": 48,
   "id": "ff4ad125-bfdd-42c6-aabf-b1f5d6b3d7c1",
   "metadata": {},
   "outputs": [
    {
     "name": "stdout",
     "output_type": "stream",
     "text": [
      "Python is awesome\n"
     ]
    }
   ],
   "source": [
    "#Variables that are created outside of a function (as in all of the examples in the previous pages) are known as global variables.\n",
    "\n",
    "#Global variables can be used by everyone, both inside of functions and outside.\n",
    "x = \"awesome\"\n",
    "\n",
    "def myfunc():\n",
    "  print(\"Python is \" + x)\n",
    "\n",
    "myfunc()"
   ]
  },
  {
   "cell_type": "markdown",
   "id": "5a27ae2a-3c27-4801-9370-bd56aaf686eb",
   "metadata": {},
   "source": [
    "# Addition of two numbers using users input"
   ]
  },
  {
   "cell_type": "code",
   "execution_count": 3,
   "id": "829ab15f-f1cb-4451-927b-d1f5ebe1de17",
   "metadata": {},
   "outputs": [
    {
     "name": "stdin",
     "output_type": "stream",
     "text": [
      "Enter the First Number: 10 \n",
      "Enter the Second Number: 25\n"
     ]
    },
    {
     "name": "stdout",
     "output_type": "stream",
     "text": [
      "The Addition of 10 and 25 is 35\n"
     ]
    }
   ],
   "source": [
    "#Program for the addition of two Numbers user taken values\n",
    "#Declare the First Variable \n",
    "a=int(input(\"Enter the First Number:\"))\n",
    "#Declare the Second Variable\n",
    "b=int(input(\"Enter the Second Number:\"))\n",
    "#Create a Variable consisting of addition of the Two Variables\n",
    "c=a+b\n",
    "#Priting The Addition \n",
    "print(\"The Addition of\",a,\"and\",b,\"is\",c)"
   ]
  },
  {
   "cell_type": "markdown",
   "id": "aaadefea-1627-41fb-af03-605e08b39081",
   "metadata": {},
   "source": [
    "# Addition of two complex numbers "
   ]
  },
  {
   "cell_type": "code",
   "execution_count": 8,
   "id": "b3eb3eaf-c663-49a3-bcdb-c5b631ac44ce",
   "metadata": {},
   "outputs": [
    {
     "name": "stdout",
     "output_type": "stream",
     "text": [
      "The Addition of (2+4j) and (4+5j) is (6+9j)\n"
     ]
    }
   ],
   "source": [
    "#Program for the addition of the two Complex Numbers \n",
    "#first complex number \n",
    "a=complex(2,4)\n",
    "#Second complex number \n",
    "b=complex(4,5)\n",
    "#addtion of the two complex number \n",
    "c=a+b\n",
    "#printing the addition of the two numbers \n",
    "print(\"The Addition of\",a,\"and\",b,\"is\",c)"
   ]
  },
  {
   "cell_type": "markdown",
   "id": "d2e2c4a1-8864-47e1-98f7-2c4fac406a95",
   "metadata": {},
   "source": [
    "# Finding Area of triangle by Taking the user Input\r\n"
   ]
  },
  {
   "cell_type": "code",
   "execution_count": 13,
   "id": "1efdf15c-7de3-42aa-9ea5-4a0732ff1895",
   "metadata": {},
   "outputs": [
    {
     "name": "stdin",
     "output_type": "stream",
     "text": [
      "Entger the Length: 10\n",
      "Enter the Width: 5\n"
     ]
    },
    {
     "name": "stdout",
     "output_type": "stream",
     "text": [
      "The Area of the Rectangle is: 50.0\n"
     ]
    }
   ],
   "source": [
    "#Finding the Area of rectangle\n",
    "#Taking the Length of rectangle\n",
    "l=float(input(\"Entger the Length:\"))\n",
    "#Taking the Width of the rectangle\n",
    "w=float(input(\"Enter the Width:\"))\n",
    "a=l*w\n",
    "print(\"The Area of the Rectangle is:\",a)"
   ]
  },
  {
   "cell_type": "markdown",
   "id": "7a919751-a478-47c9-98a5-a22ec1bb0c83",
   "metadata": {},
   "source": [
    "# Area of circle"
   ]
  },
  {
   "cell_type": "code",
   "execution_count": 18,
   "id": "c8a06df4-3603-40e8-bd64-e0744b11fd29",
   "metadata": {},
   "outputs": [
    {
     "name": "stdin",
     "output_type": "stream",
     "text": [
      "Enter the Radius: 5\n"
     ]
    },
    {
     "name": "stdout",
     "output_type": "stream",
     "text": [
      "Area of the Circle is: 25.0\n"
     ]
    }
   ],
   "source": [
    "# Finding the Area of the Circle\n",
    "# Taking the Radius of the Circle\n",
    "r=float(input(\"Enter the Radius:\"))\n",
    "#Calculating the Area of the Circle\n",
    "a=r*r\n",
    "print(\"Area of the Circle is:\",a)"
   ]
  },
  {
   "cell_type": "markdown",
   "id": "2b69c6e5-8fd1-4f9a-82e6-6e169d4fa166",
   "metadata": {},
   "source": [
    "# Data types in Python"
   ]
  },
  {
   "cell_type": "code",
   "execution_count": 24,
   "id": "de01f2cc-7264-4611-94ce-717d3f1245d5",
   "metadata": {},
   "outputs": [
    {
     "name": "stdout",
     "output_type": "stream",
     "text": [
      "<class 'str'>\n"
     ]
    }
   ],
   "source": [
    "#str\n",
    "x = \"Hello World\"\n",
    "#display the data type of x:\n",
    "print(type(x)) \n"
   ]
  },
  {
   "cell_type": "code",
   "execution_count": 26,
   "id": "304014c1-5457-4578-9b15-0c68ab5bf09a",
   "metadata": {},
   "outputs": [
    {
     "name": "stdout",
     "output_type": "stream",
     "text": [
      "<class 'int'>\n"
     ]
    }
   ],
   "source": [
    "#int\n",
    "x=10;\n",
    "print(type(x))"
   ]
  },
  {
   "cell_type": "code",
   "execution_count": 28,
   "id": "2f046276-e3ad-41d4-b461-44cef4f7c2cb",
   "metadata": {},
   "outputs": [
    {
     "name": "stdout",
     "output_type": "stream",
     "text": [
      "<class 'float'>\n"
     ]
    }
   ],
   "source": [
    "#float\n",
    "x=12.65;\n",
    "print(type(x))"
   ]
  },
  {
   "cell_type": "code",
   "execution_count": 34,
   "id": "d78d9043-3ed0-4259-bd27-b418062dab9c",
   "metadata": {},
   "outputs": [
    {
     "name": "stdout",
     "output_type": "stream",
     "text": [
      "<class 'complex'>\n"
     ]
    }
   ],
   "source": [
    "#complex\n",
    "a=1+2j;\n",
    "print(type(a))"
   ]
  },
  {
   "cell_type": "markdown",
   "id": "07de427b-862c-4e1a-a4cd-f610111698ae",
   "metadata": {},
   "source": [
    "# List"
   ]
  },
  {
   "cell_type": "code",
   "execution_count": 38,
   "id": "727a4cc3-6795-4e9c-981b-368b8f7b690e",
   "metadata": {},
   "outputs": [
    {
     "name": "stdout",
     "output_type": "stream",
     "text": [
      "['apple', 'banana', 'cherry']\n"
     ]
    }
   ],
   "source": [
    "#Lists are used to store multiple items in a single variable.\n",
    "\n",
    "\n",
    "#Lists are created using square brackets\n",
    "thislist = [\"apple\", \"banana\", \"cherry\"]\n",
    "print(thislist)\n"
   ]
  },
  {
   "cell_type": "markdown",
   "id": "07f0cbcf-0bf1-4693-9d7c-9ae9b7f42938",
   "metadata": {},
   "source": [
    "# List operations "
   ]
  },
  {
   "cell_type": "markdown",
   "id": "f248435a-5d97-48bc-89f1-cf61145bacad",
   "metadata": {},
   "source": [
    "# Insert operation on list"
   ]
  },
  {
   "cell_type": "code",
   "execution_count": 47,
   "id": "99a032d8-6fe0-4f5e-81e8-efd2c2bf6b27",
   "metadata": {},
   "outputs": [
    {
     "name": "stdout",
     "output_type": "stream",
     "text": [
      "['x', 'y', 'z']\n",
      "['x', 'a', 'y', 'z']\n"
     ]
    }
   ],
   "source": [
    "# Creating a list \n",
    "l=['x','y','z']\n",
    "print(l)\n",
    "\n",
    "#Insert()\n",
    "#inserting the 'a' variable at the index 1\n",
    "l.insert(1,'a')\n",
    "print(l)"
   ]
  },
  {
   "cell_type": "markdown",
   "id": "86bfd9fa-bf79-45f6-8ec5-5b0d60032927",
   "metadata": {},
   "source": [
    "# Append operation on list"
   ]
  },
  {
   "cell_type": "code",
   "execution_count": 51,
   "id": "a0c8909e-3700-4511-b966-159ecc655906",
   "metadata": {},
   "outputs": [
    {
     "name": "stdout",
     "output_type": "stream",
     "text": [
      "['x', 'y', 'z']\n",
      "['x', 'y', 'z', 'b']\n"
     ]
    }
   ],
   "source": [
    "# Creating a list \n",
    "l=['x','y','z']\n",
    "print(l)\n",
    "\n",
    "#Append()\n",
    "#Append the 'b' variable \n",
    "l.append('b')\n",
    "print(l)"
   ]
  },
  {
   "cell_type": "markdown",
   "id": "d59d978c-d9cb-41c8-a16c-7278c5f28d7b",
   "metadata": {},
   "source": [
    "# Extend operation on list"
   ]
  },
  {
   "cell_type": "code",
   "execution_count": 61,
   "id": "8e0ec390-7b47-47d7-a7bf-0aff0543dc52",
   "metadata": {},
   "outputs": [
    {
     "name": "stdout",
     "output_type": "stream",
     "text": [
      "['apple', 'banana', 'cherry', 'mango', 'pineapple', 'papaya']\n"
     ]
    }
   ],
   "source": [
    "thislist = [\"apple\", \"banana\", \"cherry\"]\n",
    "tropical = [\"mango\", \"pineapple\", \"papaya\"]\n",
    "thislist.extend(tropical)\n",
    "print(thislist)"
   ]
  },
  {
   "cell_type": "markdown",
   "id": "be446947-a6be-41fd-92db-d9e0e74435f1",
   "metadata": {},
   "source": [
    "# Remove operation on list"
   ]
  },
  {
   "cell_type": "code",
   "execution_count": 65,
   "id": "0f937028-c251-457f-a298-14031ec13709",
   "metadata": {},
   "outputs": [
    {
     "name": "stdout",
     "output_type": "stream",
     "text": [
      "['apple', 'cherry']\n"
     ]
    }
   ],
   "source": [
    "thislist = [\"apple\", \"banana\", \"cherry\"]\n",
    "thislist.remove(\"banana\")\n",
    "print(thislist)"
   ]
  },
  {
   "cell_type": "markdown",
   "id": "ff5780bf-4fb6-46ad-96fb-00af696c711d",
   "metadata": {},
   "source": [
    "# Pop operation"
   ]
  },
  {
   "cell_type": "code",
   "execution_count": 70,
   "id": "b04d743f-8c12-4b30-b4fe-20d8212c4245",
   "metadata": {},
   "outputs": [
    {
     "name": "stdout",
     "output_type": "stream",
     "text": [
      "['apple', 'cherry']\n"
     ]
    }
   ],
   "source": [
    "#remove specified operation\n",
    "thislist = [\"apple\", \"banana\", \"cherry\"]  \n",
    "thislist.pop(1)\n",
    "print(thislist)\n",
    "#If you do not specify the index, the pop() method removes the last item."
   ]
  },
  {
   "cell_type": "markdown",
   "id": "b1ef6a6e-9724-46b2-83de-b9241933dd28",
   "metadata": {},
   "source": [
    "# List Comprehension"
   ]
  },
  {
   "cell_type": "code",
   "execution_count": 75,
   "id": "27c7a048-e8f6-487a-9828-9baaa2d89a2f",
   "metadata": {},
   "outputs": [
    {
     "name": "stdout",
     "output_type": "stream",
     "text": [
      "['apple', 'banana', 'mango']\n"
     ]
    }
   ],
   "source": [
    "#Based on a list of fruits, you want a new list, containing only the fruits with the letter \"a\" in the name.\n",
    "\n",
    "#Without list comprehension you will have to write a for statement with a conditional test inside:\n",
    "\n",
    "\n",
    "fruits = [\"apple\", \"banana\", \"cherry\", \"kiwi\", \"mango\"]\n",
    "newlist = []\n",
    "\n",
    "for x in fruits:\n",
    "  if \"a\" in x:\n",
    "    newlist.append(x)\n",
    "\n",
    "print(newlist)"
   ]
  },
  {
   "cell_type": "markdown",
   "id": "812a183d-2ad5-4d7d-90bd-9450c3b77307",
   "metadata": {},
   "source": [
    "# Sort List Alphanumerically or alphabetically"
   ]
  },
  {
   "cell_type": "code",
   "execution_count": 79,
   "id": "91487e40-d5bf-49bb-8e46-207691b67072",
   "metadata": {},
   "outputs": [
    {
     "name": "stdout",
     "output_type": "stream",
     "text": [
      "[23, 50, 65, 82, 100]\n"
     ]
    }
   ],
   "source": [
    "#List objects have a sort() method that will sort the list alphanumerically, ascending, by default:\n",
    "#sort the list numerically\n",
    "thislist = [100, 50, 65, 82, 23]\n",
    "thislist.sort()\n",
    "print(thislist)"
   ]
  },
  {
   "cell_type": "code",
   "execution_count": 81,
   "id": "e8191419-c074-4628-9dcd-4475f892454e",
   "metadata": {},
   "outputs": [
    {
     "name": "stdout",
     "output_type": "stream",
     "text": [
      "['banana', 'kiwi', 'mango', 'orange', 'pineapple']\n"
     ]
    }
   ],
   "source": [
    "#sort the list alphabetically\n",
    "\n",
    "thislist = [\"orange\", \"mango\", \"kiwi\", \"pineapple\", \"banana\"]\n",
    "thislist.sort()\n",
    "print(thislist)"
   ]
  },
  {
   "cell_type": "markdown",
   "id": "7cd520a7-9299-4ba4-8ea9-730bd8dbdad9",
   "metadata": {},
   "source": [
    "# Sort decending"
   ]
  },
  {
   "cell_type": "code",
   "execution_count": 87,
   "id": "838f3085-a89d-46e7-ae55-1d6485212b35",
   "metadata": {},
   "outputs": [
    {
     "name": "stdout",
     "output_type": "stream",
     "text": [
      "['pineapple', 'orange', 'mango', 'kiwi', 'banana']\n"
     ]
    }
   ],
   "source": [
    "#To sort descending, use the keyword argument reverse = True:\n",
    "thislist = [\"orange\", \"mango\", \"kiwi\", \"pineapple\", \"banana\"]\n",
    "thislist.sort(reverse = True)\n",
    "print(thislist)"
   ]
  },
  {
   "cell_type": "markdown",
   "id": "43291bfe-8b21-4ebf-9691-581b530a6eaa",
   "metadata": {},
   "source": [
    "# Reverse order"
   ]
  },
  {
   "cell_type": "code",
   "execution_count": 91,
   "id": "7d423317-ab4d-4a4d-a786-e02e35f3d585",
   "metadata": {},
   "outputs": [
    {
     "name": "stdout",
     "output_type": "stream",
     "text": [
      "['cherry', 'Kiwi', 'Orange', 'banana']\n"
     ]
    }
   ],
   "source": [
    "thislist = [\"banana\", \"Orange\", \"Kiwi\", \"cherry\"]\n",
    "thislist.reverse()\n",
    "print(thislist)"
   ]
  },
  {
   "cell_type": "markdown",
   "id": "b11d528f-0aea-4eb6-87a0-dedf3e94e64e",
   "metadata": {},
   "source": [
    "# Join lists"
   ]
  },
  {
   "cell_type": "code",
   "execution_count": 95,
   "id": "37112dcb-e89a-4bc3-877d-d705d74bb007",
   "metadata": {},
   "outputs": [
    {
     "name": "stdout",
     "output_type": "stream",
     "text": [
      "['a', 'b', 'c', 1, 2, 3]\n"
     ]
    }
   ],
   "source": [
    "#There are several ways to join, or concatenate, two or more lists in Python.\n",
    "#One of the easiest ways are by using the + operator.\n",
    "list1 = [\"a\", \"b\", \"c\"]\n",
    "list2 = [1, 2, 3]\n",
    "\n",
    "list3 = list1 + list2\n",
    "print(list3)"
   ]
  },
  {
   "cell_type": "markdown",
   "id": "74f90244-f613-44a3-a197-03f3a52d8994",
   "metadata": {},
   "source": [
    "# Tuple"
   ]
  },
  {
   "cell_type": "code",
   "execution_count": 99,
   "id": "af34e565-4570-4e60-86d2-9671d7f7a9af",
   "metadata": {},
   "outputs": [
    {
     "name": "stdout",
     "output_type": "stream",
     "text": [
      "('apple', 'banana', 'cherry')\n"
     ]
    }
   ],
   "source": [
    "#Tuples are used to store multiple items in a single variable.\n",
    "#A tuple is a collection which is ordered and unchangeable.\n",
    "#Tuples are written with round brackets.\n",
    "\n",
    "\n",
    "thistuple = (\"apple\", \"banana\", \"cherry\")\n",
    "print(thistuple)"
   ]
  },
  {
   "cell_type": "markdown",
   "id": "d4c13800-3351-4862-be9e-85ecf9cc8767",
   "metadata": {},
   "source": [
    "# Tuple length "
   ]
  },
  {
   "cell_type": "code",
   "execution_count": 103,
   "id": "0b6b6663-7031-4e4b-becd-83d348991016",
   "metadata": {},
   "outputs": [
    {
     "name": "stdout",
     "output_type": "stream",
     "text": [
      "3\n"
     ]
    }
   ],
   "source": [
    "#Tuple Length\n",
    "#To determine how many items a tuple has, use the len() function:\n",
    "thistuple = (\"apple\", \"banana\", \"cherry\")\n",
    "print(len(thistuple))"
   ]
  },
  {
   "cell_type": "code",
   "execution_count": null,
   "id": "e7e11803-c519-49af-8b37-45e5adc6d71d",
   "metadata": {},
   "outputs": [],
   "source": []
  }
 ],
 "metadata": {
  "kernelspec": {
   "display_name": "Python 3 (ipykernel)",
   "language": "python",
   "name": "python3"
  },
  "language_info": {
   "codemirror_mode": {
    "name": "ipython",
    "version": 3
   },
   "file_extension": ".py",
   "mimetype": "text/x-python",
   "name": "python",
   "nbconvert_exporter": "python",
   "pygments_lexer": "ipython3",
   "version": "3.11.7"
  }
 },
 "nbformat": 4,
 "nbformat_minor": 5
}
